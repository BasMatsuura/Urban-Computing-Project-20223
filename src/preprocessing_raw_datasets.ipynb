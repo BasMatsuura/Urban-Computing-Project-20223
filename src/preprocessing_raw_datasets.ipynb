{
 "cells": [
  {
   "cell_type": "code",
   "execution_count": 110,
   "metadata": {},
   "outputs": [],
   "source": [
    "########################\n",
    "### Import Libraries ###\n",
    "########################\n",
    "\n",
    "import pandas as pd\n",
    "import geopandas as gpd\n",
    "import matplotlib as plt\n",
    "import numpy as np\n",
    "import string\n",
    "from datetime import datetime, timedelta"
   ]
  },
  {
   "cell_type": "markdown",
   "metadata": {},
   "source": [
    "## Adjacency Matrix of Dutch Municipalities"
   ]
  },
  {
   "cell_type": "code",
   "execution_count": 84,
   "metadata": {},
   "outputs": [],
   "source": [
    "#####################################\n",
    "### Load ShapeFile Municipalities ###\n",
    "#####################################\n",
    "\n",
    "# Adjacency is based on a ShapeFile from the CBS: https://www.cbs.nl/nl-nl/dossier/nederland-regionaal/geografische-data/wijk-en-buurtkaart-2020\n",
    "\n",
    "path_cbs_municipality_shapefile = r'C:\\Users\\matsu\\Desktop\\Universiteit\\MSc Statistics & Data Science\\Year 3\\Semester 1\\Mandatory Courses\\Urban Computing\\Project\\Code\\Cloned Repositories\\EpiGNN\\data\\WijkBuurtkaart_2022_v1\\gemeente_2022_v1.shp'\n",
    "# Load the shapefile\n",
    "gdf = gpd.read_file(path_cbs_municipality_shapefile)\n",
    "\n",
    "# Remove duplicate municipalities where H2O is included. Also remove the small Belgian enclave in Noord-Brabant.\n",
    "gdf = gdf[(gdf['H2O'] != 'JA') & (gdf['H2O'] != 'B')]\n",
    "gdf = gdf.reset_index(drop=True)"
   ]
  },
  {
   "cell_type": "code",
   "execution_count": 85,
   "metadata": {},
   "outputs": [],
   "source": [
    "###############################\n",
    "### Create Adjacency Matrix ###\n",
    "###############################\n",
    "\n",
    "adjacency_dict = {}\n",
    "\n",
    "for i, municipality_i in gdf.iterrows():\n",
    "    adjacent_municipalities = []\n",
    "    for j, municipality_j in gdf.iterrows():\n",
    "        if i != j and municipality_i.geometry.touches(municipality_j.geometry):\n",
    "            adjacent_municipalities.append(municipality_j['GM_NAAM'])\n",
    "    adjacency_dict[municipality_i['GM_NAAM']] = adjacent_municipalities\n",
    "\n",
    "# Create a DataFrame to represent the adjacency matrix\n",
    "adjacency_matrix = pd.DataFrame(index=gdf['GM_NAAM'], columns=gdf['GM_NAAM'], dtype=int).fillna(0)\n",
    "\n",
    "# Populate the adjacency matrix\n",
    "for municipality, neighbors in adjacency_dict.items():\n",
    "    adjacency_matrix.loc[municipality, neighbors] = 1"
   ]
  },
  {
   "cell_type": "code",
   "execution_count": 82,
   "metadata": {},
   "outputs": [],
   "source": [
    "#############################\n",
    "### Save Adjacency Matrix ###\n",
    "#############################\n",
    "\n",
    "adjacency_matrix.to_csv('adjacency_matrix.csv')"
   ]
  },
  {
   "cell_type": "markdown",
   "metadata": {},
   "source": [
    "## Dataset COVID-19 Infections per Municipality"
   ]
  },
  {
   "cell_type": "code",
   "execution_count": 104,
   "metadata": {},
   "outputs": [],
   "source": [
    "####################\n",
    "### Load Dataset ###\n",
    "####################\n",
    "\n",
    "path_covid_daily_infections = r'C:\\Users\\matsu\\Desktop\\Universiteit\\MSc Statistics & Data Science\\Year 3\\Semester 1\\Mandatory Courses\\Urban Computing\\Project\\Code\\Cloned Repositories\\EpiGNN\\data\\COVID-19_aantallen_gemeente_per_dag_tm_03102021.csv'\n",
    "df_covid_daily_infections_full = pd.read_csv(path_covid_daily_infections, delimiter=';')"
   ]
  },
  {
   "cell_type": "code",
   "execution_count": 105,
   "metadata": {},
   "outputs": [
    {
     "name": "stdout",
     "output_type": "stream",
     "text": [
      "344\n"
     ]
    }
   ],
   "source": [
    "#########################################\n",
    "### Clean COVID-19 Infections Dataset ###\n",
    "#########################################\n",
    "\n",
    "# Remove redundant columns\n",
    "df_covid_daily_infections = df_covid_daily_infections_full[[\"Date_of_publication\", \"Municipality_code\", \"Municipality_name\",\"Province\", \"Total_reported\", \"Deceased\"]]\n",
    "\n",
    "# Check for NaNs in Total_reported and Deceased\n",
    "nan_mask_total_reported = df_covid_daily_infections['Total_reported'].isna()\n",
    "nan_mask_total_deceased = df_covid_daily_infections['Deceased'].isna()\n",
    "sum(nan_mask_total_reported), sum(nan_mask_total_deceased)\n",
    "\n",
    "# Remove those rows for which the Municipality is unknown\n",
    "df_covid_daily_infections = df_covid_daily_infections.dropna(subset=['Municipality_name'])\n",
    "nan_mask_total_municipality = df_covid_daily_infections['Municipality_name'].isna()\n",
    "sum(nan_mask_total_municipality)\n",
    "\n",
    "# Sorting the DataFrame alphabetically by Municipality name per Day\n",
    "df_covid_daily_infections = df_covid_daily_infections.sort_values(by=['Date_of_publication', 'Municipality_name'])\n",
    "df_covid_daily_infections = df_covid_daily_infections.reset_index(drop=True)\n",
    "\n",
    "# Unique Municipality Names Count (344)\n",
    "unique_names_count = df_covid_daily_infections['Municipality_name'].nunique()\n",
    "print(unique_names_count)"
   ]
  },
  {
   "cell_type": "code",
   "execution_count": 114,
   "metadata": {},
   "outputs": [],
   "source": [
    "####################################################\n",
    "### Convert Dataframe COVID-19 to Desired Format ###\n",
    "####################################################\n",
    "# Ensure 'Date_of_publication' is in datetime format\n",
    "df_covid_daily_infections['Date_of_publication'] = pd.to_datetime(df_covid_daily_infections['Date_of_publication'])\n",
    "\n",
    "# Date range\n",
    "start_date = datetime(2020, 2, 28)\n",
    "end_date = datetime(2021, 10, 3)\n",
    "\n",
    "# Open the file outside of the loop to avoid reopening it on each iteration\n",
    "with open('netherlands-covid.txt', 'w') as f:\n",
    "    # Loop over all dates in the range\n",
    "    for n in range(int ((end_date - start_date).days)+1):\n",
    "        date = start_date + timedelta(n)\n",
    "\n",
    "        # Filter, sort, select\n",
    "        filtered_df = df_covid_daily_infections[df_covid_daily_infections['Date_of_publication'] == date].sort_values(by='Municipality_name')\n",
    "        total_reported_values = filtered_df['Total_reported'].tolist()\n",
    "\n",
    "        # Convert to string and write to file\n",
    "        f.write(','.join(map(str, total_reported_values)))\n",
    "        f.write('\\n')"
   ]
  },
  {
   "cell_type": "markdown",
   "metadata": {},
   "source": [
    "**Checking Compatibility of Adjacency Matrix based on ShapeFile 2020 and COVID-19 Dataset**: \n",
    "\n",
    "After thoroughly going through the ShapeFile and the COVID-19 dataset manually, we discovered certain mergers of municipalities are not accounted for in the ShapeFile. Although the COVID-19 dataset was collected in 2020, it appears to be using municipalities that weren't approved by Dutch parliament until the beginning of 2022. These mergers are described on the Dutch governmental website. \n",
    "\n",
    "**ShapeFile of 2022 Municipalities in the Netherlands**\n",
    "\n",
    "To remedy this shortcoming we will try using the ShapeFile of 2022. Only the municipality Weesp is non-overlapping, meaning it is in the ShapeFile but not in the dataset. According to the governmental website on COVID-19 datasets, this is because the municipality of Weesp was merged into that of Amsterdam as of March 2022. Despite the data being older, the whole dataset was adjusted to this later change. We will make this change too by adding the respective spots in the adjacency matrix."
   ]
  },
  {
   "cell_type": "code",
   "execution_count": 86,
   "metadata": {},
   "outputs": [],
   "source": [
    "##########################################################\n",
    "### Compare Municipalities Adjacency Matrix & Data set ###\n",
    "##########################################################\n",
    "\n",
    "df_covid_daily_infections_unique_municipality_names = set(df_covid_daily_infections['Municipality_name'].unique())\n",
    "\n",
    "# Solve Merger of Weesp into Amsterdam Municipality \n",
    "adjacency_matrix.loc['Amsterdam_mergtemp'] = (adjacency_matrix.loc['Amsterdam'].astype(int) | adjacency_matrix.loc['Weesp'].astype(int)).astype(int)\n",
    "adjacency_matrix['Amsterdam_mergtemp'] = (adjacency_matrix['Amsterdam'].astype(int) | adjacency_matrix['Weesp'].astype(int)).astype(int)\n",
    "adjacency_matrix.loc['Amsterdam_mergtemp', 'Amsterdam_mergtemp'] = 0\n",
    "adjacency_matrix = adjacency_matrix.drop(index=['Amsterdam', 'Weesp'], columns=['Amsterdam', 'Weesp'])\n",
    "\n",
    "# Rename\n",
    "new_name = 'Amsterdam'\n",
    "adjacency_matrix = adjacency_matrix.rename(index={'Amsterdam_mergtemp': new_name})\n",
    "adjacency_matrix = adjacency_matrix.rename(columns={'Amsterdam_mergtemp': new_name})\n",
    "\n",
    "# Order alphabetically\n",
    "adjacency_matrix = adjacency_matrix.sort_index() # Rows\n",
    "adjacency_matrix = adjacency_matrix.sort_index(axis=1) # Columns\n",
    "\n",
    "# Find non-overlapping names\n",
    "adjacency_matrix_unique_municipality_names = set(adjacency_matrix.index)\n",
    "non_overlapping = adjacency_matrix_unique_municipality_names.symmetric_difference(df_covid_daily_infections_unique_municipality_names)\n"
   ]
  },
  {
   "cell_type": "code",
   "execution_count": 115,
   "metadata": {},
   "outputs": [],
   "source": [
    "##########################################\n",
    "### Save Adjacency Matrix as .txt File ###\n",
    "##########################################\n",
    "\n",
    "# Convert the pandas DataFrame to a numpy array\n",
    "adjacency_matrix_array = adjacency_matrix.to_numpy()\n",
    "\n",
    "# Save the numpy array to a text file without row and column names\n",
    "np.savetxt('netherlands-adj.txt', adjacency_matrix_array, fmt='%d', delimiter=',')"
   ]
  },
  {
   "cell_type": "code",
   "execution_count": 99,
   "metadata": {},
   "outputs": [],
   "source": [
    "################################################\n",
    "### Simplify Municipality Names for Analysis ###\n",
    "################################################\n",
    "\n",
    "# Convert index names to lowercase\n",
    "adjacency_matrix.index = adjacency_matrix.index.str.lower()\n",
    "\n",
    "# Replace spaces with underscores\n",
    "adjacency_matrix.index = adjacency_matrix.index.str.replace(' ', '_')\n",
    "\n",
    "# Remove punctuation (excluding underscores since they are now part of the names)\n",
    "translator = str.maketrans('', '', string.punctuation.replace('_', ''))\n",
    "adjacency_matrix.index = adjacency_matrix.index.str.translate(translator)\n",
    "\n",
    "# Apply the same transformations to the column names\n",
    "adjacency_matrix.columns = adjacency_matrix.columns.str.lower()\n",
    "adjacency_matrix.columns = adjacency_matrix.columns.str.replace(' ', '_')\n",
    "adjacency_matrix.columns = adjacency_matrix.columns.str.translate(translator)"
   ]
  },
  {
   "cell_type": "code",
   "execution_count": 103,
   "metadata": {},
   "outputs": [],
   "source": [
    "##################################################\n",
    "### Create Label File for Dutch Municipalities ###\n",
    "##################################################\n",
    "\n",
    "# Create a DataFrame with the municipality names and a range of numbers\n",
    "output_df = pd.DataFrame({\n",
    "    'Number': range(1, len(adjacency_matrix.index) + 1),\n",
    "    'Municipality': adjacency_matrix.index\n",
    "})\n",
    "\n",
    "# Format the data as described and save to a .csv file\n",
    "output_df.to_csv('netherlands-label.csv', header=False, index=False)\n",
    "\n",
    "with open('netherlands-label.csv', 'w') as f:\n",
    "    for i, name in enumerate(adjacency_matrix.index, start=1):\n",
    "        line = f\"{name}, {i}\"\n",
    "        f.write(line)\n",
    "        f.write('\\n')\n"
   ]
  },
  {
   "cell_type": "code",
   "execution_count": null,
   "metadata": {},
   "outputs": [],
   "source": [
    "#################################################\n",
    "### Create Excel File to Manually Check Names ###\n",
    "#################################################\n",
    "\n",
    "adjacency_matrix_unique_municipality_names_list = list(adjacency_matrix_unique_municipality_names)\n",
    "df_covid_daily_infections_unique_municipality_names_list = list(df_covid_daily_infections_unique_municipality_names)\n",
    "\n",
    "df_adjacency_names = pd.DataFrame(adjacency_matrix_unique_municipality_names_list, columns=[\"Adjacency Matrix Names\"])\n",
    "df_dataset_names = pd.DataFrame(df_covid_daily_infections_unique_municipality_names_list, columns=[\"Dataset COVID-19 Names\"])\n",
    "\n",
    "# Concatenate Dataframes\n",
    "df_concatenated_municipalities = pd.concat([df_adjacency_names, df_dataset_names], axis = 1)\n",
    "\n",
    "# Sort each column\n",
    "df_concatenated_municipalities_sorted = df_concatenated_municipalities.apply(lambda x: x.sort_values().values)\n",
    "\n",
    "# Save as Excel File\n",
    "df_concatenated_municipalities_sorted.to_excel('df_concatenated_municipalities_sorted.xlsx', index=False, engine='openpyxl')"
   ]
  }
 ],
 "metadata": {
  "kernelspec": {
   "display_name": "Python 3",
   "language": "python",
   "name": "python3"
  },
  "language_info": {
   "codemirror_mode": {
    "name": "ipython",
    "version": 3
   },
   "file_extension": ".py",
   "mimetype": "text/x-python",
   "name": "python",
   "nbconvert_exporter": "python",
   "pygments_lexer": "ipython3",
   "version": "3.8.5"
  }
 },
 "nbformat": 4,
 "nbformat_minor": 4
}
